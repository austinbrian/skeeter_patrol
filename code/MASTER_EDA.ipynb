{
 "cells": [
  {
   "cell_type": "code",
   "execution_count": 2,
   "metadata": {
    "collapsed": true
   },
   "outputs": [],
   "source": [
    "import pandas as pd\n",
    "import numpy as np\n",
    "import math\n",
    "\n",
    "weather = pd.read_csv('../data/input/weather.csv')\n",
    "train = pd.read_csv('../data/input/train.csv')\n",
    "test = pd.read_csv('../data/input/test.csv')\n",
    "spray = pd.read_csv('../data/input/spray.csv')"
   ]
  },
  {
   "cell_type": "code",
   "execution_count": 3,
   "metadata": {
    "collapsed": true
   },
   "outputs": [],
   "source": [
    "# reducing the list of columns in weather\n",
    "weather_excluded = ['Depth', 'Water1', 'SnowFall', 'Depart', 'Heat', 'Cool', 'Sunrise', 'Sunset']\n",
    "weather_keep = [column for column in weather.columns if column not in weather_excluded]\n",
    "weather = weather[weather_keep]"
   ]
  },
  {
   "cell_type": "code",
   "execution_count": 4,
   "metadata": {
    "collapsed": true
   },
   "outputs": [],
   "source": [
    "# dates to date objects\n",
    "weather.Date = pd.DatetimeIndex(weather.Date)\n",
    "train.Date = pd.to_datetime(train.Date)\n",
    "test.Date = pd.to_datetime(test.Date)"
   ]
  },
  {
   "cell_type": "code",
   "execution_count": 5,
   "metadata": {
    "collapsed": true
   },
   "outputs": [],
   "source": [
    "# to remove the leading spaces\n",
    "weather.PrecipTotal = weather.PrecipTotal.str.strip()"
   ]
  },
  {
   "cell_type": "markdown",
   "metadata": {},
   "source": [
    "#### Looking at daily data, some dates have an \"M\" or a &\"T\" in the field. What does this mean?\n",
    "\"M\" stands for \"Missing\". Data for an element will be missing if the primary sensor for that weather element is inoperable (e.g., has an outage) or malfunctioning (e.g., producing errant data) AND any collocated backup sensor is also inoperable or malfunctioning. \"T\" stand for \"Trace\". This is a small amount of precipitation that will wet a raingage but is less than the 0.01 inch measuring limit."
   ]
  },
  {
   "cell_type": "code",
   "execution_count": 6,
   "metadata": {
    "collapsed": true
   },
   "outputs": [],
   "source": [
    "weather = weather.replace('T', 0.005)\n",
    "weather = weather.replace('M', np.nan)"
   ]
  },
  {
   "cell_type": "markdown",
   "metadata": {},
   "source": [
    "# Train formatting"
   ]
  },
  {
   "cell_type": "code",
   "execution_count": 7,
   "metadata": {
    "collapsed": true
   },
   "outputs": [],
   "source": [
    "# Train\n",
    "train.Date = pd.to_datetime(train.Date)\n",
    "cols = [i for i in train.columns]\n",
    "for i,v in enumerate(cols):\n",
    "    if '_date-1_date-' in v: # drops out the repeated date column\n",
    "        train.drop(v,axis=1,inplace=True)"
   ]
  },
  {
   "cell_type": "code",
   "execution_count": 8,
   "metadata": {
    "collapsed": true
   },
   "outputs": [],
   "source": [
    "'''\n",
    "Formula for calculating compass bearing between two lat/lon tuples.  Credit:  https://gist.github.com/jeromer/2005586\n",
    "Corrected output error in which returned bearing (in degrees) needed to be subtracted from 360 in order to be correct.  \n",
    "Validated this change on https://www.sunearthtools.com/tools/distance.php and with manual orienteering using Google \n",
    "maps in place of a physical map.\n",
    "\n",
    "Other than that change at the end of the formula, the code was taken from the gist page linked above.\n",
    "'''\n",
    "\n",
    "\n",
    "def compass_bearing(loc1, loc2):\n",
    "    \"\"\"\n",
    "    Calculates the bearing between two points.\n",
    "    The formulae used is the following:\n",
    "        θ = atan2(sin(Δlong).cos(lat2),\n",
    "                  cos(lat1).sin(lat2) − sin(lat1).cos(lat2).cos(Δlong))\n",
    "    :Parameters:\n",
    "      - `loc1: The tuple representing the latitude/longitude for the\n",
    "        first point. Latitude and longitude must be in decimal degrees\n",
    "      - `loc2: The tuple representing the latitude/longitude for the\n",
    "        second point. Latitude and longitude must be in decimal degrees\n",
    "    :Returns:\n",
    "      The bearing in degrees\n",
    "    :Returns Type:\n",
    "      float\n",
    "    \"\"\"\n",
    "    if (type(loc1) != tuple) or (type(loc2) != tuple):\n",
    "        raise TypeError(\"Only tuples are supported as arguments\")\n",
    "\n",
    "    lat1 = math.radians(loc1[0])\n",
    "    lat2 = math.radians(loc2[0])\n",
    "\n",
    "    diffLong = math.radians(loc1[1] - loc2[1])\n",
    "\n",
    "    x = math.sin(diffLong) * math.cos(lat2)\n",
    "    y = math.cos(lat1) * math.sin(lat2) - (math.sin(lat1)\n",
    "            * math.cos(lat2) * math.cos(diffLong))\n",
    "\n",
    "    initial_bearing = math.atan2(x, y)\n",
    "\n",
    "    # Now we have the initial bearing but math.atan2 return values\n",
    "    # from -180° to + 180° which is not what we want for a compass bearing\n",
    "    # The solution is to normalize the initial bearing as shown below\n",
    "    initial_bearing = math.degrees(initial_bearing)\n",
    "    compass_bearing = 360 - ((initial_bearing + 360) % 360) ## Mike: this originally returned an incorrect bearing\n",
    "                         ## corrected by subtracting result from 360\n",
    "\n",
    "    return compass_bearing\n",
    "\n",
    "''' \n",
    "Calculate distance in KM between two sets of coordinates (lat/lon tuples).  Uses Haversine formula.  Credit to https://gist.github.com/rochacbruno/2883505 and http://www.movable-type.co.uk/scripts/latlong.html\n",
    "\n",
    "This formula works as-is.  I tested it using Google Maps distance calculator as a validator.\n",
    "'''\n",
    "\n",
    "def distance(loc1, loc2):\n",
    "#     print (loc1, loc2)\n",
    "    lat1, lon1 = loc1\n",
    "    lat2, lon2 = loc2\n",
    "    radius = 6371 # radius of Earth in KM\n",
    "\n",
    "    dlat = math.radians(lat2-lat1)\n",
    "    dlon = math.radians(lon2-lon1)\n",
    "    a = math.sin(dlat/2) * math.sin(dlat/2) + math.cos(math.radians(lat1)) \\\n",
    "        * math.cos(math.radians(lat2)) * math.sin(dlon/2) * math.sin(dlon/2)\n",
    "    c = 2 * math.atan2(math.sqrt(a), math.sqrt(1-a))\n",
    "    d = radius * c\n",
    "\n",
    "    return d"
   ]
  },
  {
   "cell_type": "code",
   "execution_count": 9,
   "metadata": {
    "collapsed": true
   },
   "outputs": [],
   "source": [
    "\"\"\"\n",
    "Mapping of each trap to its nearest weather station--compares distance in km between a trap and each airport weather station, and returns the station number ('Station' column) of the nearest weather station.\n",
    "\n",
    "Weather station info from Kaggle:\n",
    "\n",
    "Station 1: CHICAGO O'HARE INTERNATIONAL AIRPORT Lat: 41.995 Lon: -87.933 Elev: 662 ft. above sea level\n",
    "Station 2: CHICAGO MIDWAY INTL ARPT Lat: 41.786 Lon: -87.752 Elev: 612 ft. above sea level\n",
    "\n",
    "\"\"\"\n",
    "\n",
    "station_coords = {\n",
    "        1: (41.995,-87.933),\n",
    "           2: (41.786,-87.752)}\n",
    "\n",
    "train['Coordinates'] = train[['Latitude', 'Longitude']].apply(tuple, axis=1)\n",
    "\n",
    "def assign_station(i):\n",
    "    if distance(station_coords[1], i) < distance(station_coords[2], i):\n",
    "        return 1\n",
    "    else:\n",
    "        return 2\n",
    "\n",
    "train['Weather_Station'] = train.Coordinates.apply(assign_station)\n"
   ]
  },
  {
   "cell_type": "code",
   "execution_count": 10,
   "metadata": {
    "collapsed": true
   },
   "outputs": [],
   "source": [
    "train.loc[train['Coordinates'] == (41.992478000000006, -87.862994999999998), 'Trap'] = 'T009Alt'"
   ]
  },
  {
   "cell_type": "markdown",
   "metadata": {},
   "source": [
    "# Back to Weather"
   ]
  },
  {
   "cell_type": "code",
   "execution_count": 11,
   "metadata": {
    "collapsed": true
   },
   "outputs": [],
   "source": [
    "weather_types = {\n",
    "'\\+FC': 'TORNADO/WATERSPOUT','FC': 'FUNNEL CLOUD','TS': 'THUNDERSTORM','GR': 'HAIL','RA': 'RAIN',\n",
    "'DZ': 'DRIZZLE','SN': 'SNOW','SG': 'SNOW GRAINS','GS': 'SMALL HAIL ANDOR SNOW PELLETS','PL': 'ICE PELLETS',\n",
    "'IC': 'ICE CRYSTALS','FG\\+': 'HEAVY FOG','FG': 'FOG','BR': 'MIST','UP': \"UNKNOWN PRECIPITATION\",'HZ': 'HAZE','FU': 'SMOKE',\n",
    "'VA': 'VOLCANIC ASH','DU': 'WIDESPREAD DUST','DS': 'DUSTSTORM','PO': 'SAND_DUST WHIRLS',\n",
    "'SA': 'SAND','SS': 'SANDSTORM','PY': 'SPRAY','SQ': 'SQUALL','DR': 'LOW DRIFTING','SH': 'SHOWER','FZ': 'FREEZING',\n",
    "'MI': 'SHALLOW','PR': 'PARTIAL','BC': 'PATCHES','BL': 'BLOWING','VC': 'VICINITY'}\n",
    "\n",
    "for i in weather_types:\n",
    "    weather[i] = 0\n",
    "    weather.loc[weather.CodeSum.str.contains(i) == True,i] = 1\n",
    "\n",
    "weather.drop('CodeSum',axis=1,inplace=True)"
   ]
  },
  {
   "cell_type": "code",
   "execution_count": 12,
   "metadata": {
    "collapsed": false
   },
   "outputs": [
    {
     "data": {
      "text/html": [
       "<div>\n",
       "<table border=\"1\" class=\"dataframe\">\n",
       "  <thead>\n",
       "    <tr style=\"text-align: right;\">\n",
       "      <th></th>\n",
       "      <th>Station</th>\n",
       "      <th>Date</th>\n",
       "      <th>Tmax</th>\n",
       "      <th>Tmin</th>\n",
       "      <th>Tavg</th>\n",
       "      <th>DewPoint</th>\n",
       "      <th>WetBulb</th>\n",
       "      <th>PrecipTotal</th>\n",
       "      <th>StnPressure</th>\n",
       "      <th>SeaLevel</th>\n",
       "      <th>...</th>\n",
       "      <th>MI</th>\n",
       "      <th>TS</th>\n",
       "      <th>SH</th>\n",
       "      <th>RA</th>\n",
       "      <th>\\+FC</th>\n",
       "      <th>SA</th>\n",
       "      <th>SG</th>\n",
       "      <th>PO</th>\n",
       "      <th>PL</th>\n",
       "      <th>SN</th>\n",
       "    </tr>\n",
       "  </thead>\n",
       "  <tbody>\n",
       "    <tr>\n",
       "      <th>0</th>\n",
       "      <td>1</td>\n",
       "      <td>2007-05-01</td>\n",
       "      <td>83</td>\n",
       "      <td>50</td>\n",
       "      <td>67</td>\n",
       "      <td>51</td>\n",
       "      <td>56</td>\n",
       "      <td>0.00</td>\n",
       "      <td>29.10</td>\n",
       "      <td>29.82</td>\n",
       "      <td>...</td>\n",
       "      <td>0</td>\n",
       "      <td>0</td>\n",
       "      <td>0</td>\n",
       "      <td>0</td>\n",
       "      <td>0</td>\n",
       "      <td>0</td>\n",
       "      <td>0</td>\n",
       "      <td>0</td>\n",
       "      <td>0</td>\n",
       "      <td>0</td>\n",
       "    </tr>\n",
       "    <tr>\n",
       "      <th>1</th>\n",
       "      <td>2</td>\n",
       "      <td>2007-05-01</td>\n",
       "      <td>84</td>\n",
       "      <td>52</td>\n",
       "      <td>68</td>\n",
       "      <td>51</td>\n",
       "      <td>57</td>\n",
       "      <td>0.00</td>\n",
       "      <td>29.18</td>\n",
       "      <td>29.82</td>\n",
       "      <td>...</td>\n",
       "      <td>0</td>\n",
       "      <td>0</td>\n",
       "      <td>0</td>\n",
       "      <td>0</td>\n",
       "      <td>0</td>\n",
       "      <td>0</td>\n",
       "      <td>0</td>\n",
       "      <td>0</td>\n",
       "      <td>0</td>\n",
       "      <td>0</td>\n",
       "    </tr>\n",
       "    <tr>\n",
       "      <th>2</th>\n",
       "      <td>1</td>\n",
       "      <td>2007-05-02</td>\n",
       "      <td>59</td>\n",
       "      <td>42</td>\n",
       "      <td>51</td>\n",
       "      <td>42</td>\n",
       "      <td>47</td>\n",
       "      <td>0.00</td>\n",
       "      <td>29.38</td>\n",
       "      <td>30.09</td>\n",
       "      <td>...</td>\n",
       "      <td>0</td>\n",
       "      <td>0</td>\n",
       "      <td>0</td>\n",
       "      <td>0</td>\n",
       "      <td>0</td>\n",
       "      <td>0</td>\n",
       "      <td>0</td>\n",
       "      <td>0</td>\n",
       "      <td>0</td>\n",
       "      <td>0</td>\n",
       "    </tr>\n",
       "    <tr>\n",
       "      <th>3</th>\n",
       "      <td>2</td>\n",
       "      <td>2007-05-02</td>\n",
       "      <td>60</td>\n",
       "      <td>43</td>\n",
       "      <td>52</td>\n",
       "      <td>42</td>\n",
       "      <td>47</td>\n",
       "      <td>0.00</td>\n",
       "      <td>29.44</td>\n",
       "      <td>30.08</td>\n",
       "      <td>...</td>\n",
       "      <td>0</td>\n",
       "      <td>0</td>\n",
       "      <td>0</td>\n",
       "      <td>0</td>\n",
       "      <td>0</td>\n",
       "      <td>0</td>\n",
       "      <td>0</td>\n",
       "      <td>0</td>\n",
       "      <td>0</td>\n",
       "      <td>0</td>\n",
       "    </tr>\n",
       "    <tr>\n",
       "      <th>4</th>\n",
       "      <td>1</td>\n",
       "      <td>2007-05-03</td>\n",
       "      <td>66</td>\n",
       "      <td>46</td>\n",
       "      <td>56</td>\n",
       "      <td>40</td>\n",
       "      <td>48</td>\n",
       "      <td>0.00</td>\n",
       "      <td>29.39</td>\n",
       "      <td>30.12</td>\n",
       "      <td>...</td>\n",
       "      <td>0</td>\n",
       "      <td>0</td>\n",
       "      <td>0</td>\n",
       "      <td>0</td>\n",
       "      <td>0</td>\n",
       "      <td>0</td>\n",
       "      <td>0</td>\n",
       "      <td>0</td>\n",
       "      <td>0</td>\n",
       "      <td>0</td>\n",
       "    </tr>\n",
       "  </tbody>\n",
       "</table>\n",
       "<p>5 rows × 46 columns</p>\n",
       "</div>"
      ],
      "text/plain": [
       "   Station       Date  Tmax  Tmin Tavg  DewPoint WetBulb PrecipTotal  \\\n",
       "0        1 2007-05-01    83    50   67        51      56        0.00   \n",
       "1        2 2007-05-01    84    52   68        51      57        0.00   \n",
       "2        1 2007-05-02    59    42   51        42      47        0.00   \n",
       "3        2 2007-05-02    60    43   52        42      47        0.00   \n",
       "4        1 2007-05-03    66    46   56        40      48        0.00   \n",
       "\n",
       "  StnPressure SeaLevel ...  MI  TS SH  RA  \\+FC  SA  SG  PO  PL  SN  \n",
       "0       29.10    29.82 ...   0   0  0   0     0   0   0   0   0   0  \n",
       "1       29.18    29.82 ...   0   0  0   0     0   0   0   0   0   0  \n",
       "2       29.38    30.09 ...   0   0  0   0     0   0   0   0   0   0  \n",
       "3       29.44    30.08 ...   0   0  0   0     0   0   0   0   0   0  \n",
       "4       29.39    30.12 ...   0   0  0   0     0   0   0   0   0   0  \n",
       "\n",
       "[5 rows x 46 columns]"
      ]
     },
     "execution_count": 12,
     "metadata": {},
     "output_type": "execute_result"
    }
   ],
   "source": [
    "weather.head()"
   ]
  },
  {
   "cell_type": "code",
   "execution_count": 14,
   "metadata": {
    "collapsed": false
   },
   "outputs": [
    {
     "name": "stderr",
     "output_type": "stream",
     "text": [
      "/Users/austinbrian/anaconda/lib/python2.7/site-packages/pandas/core/indexing.py:297: SettingWithCopyWarning: \n",
      "A value is trying to be set on a copy of a slice from a DataFrame.\n",
      "Try using .loc[row_indexer,col_indexer] = value instead\n",
      "\n",
      "See the caveats in the documentation: http://pandas.pydata.org/pandas-docs/stable/indexing.html#indexing-view-versus-copy\n",
      "  self.obj[key] = _infer_fill_value(value)\n",
      "/Users/austinbrian/anaconda/lib/python2.7/site-packages/pandas/core/indexing.py:477: SettingWithCopyWarning: \n",
      "A value is trying to be set on a copy of a slice from a DataFrame.\n",
      "Try using .loc[row_indexer,col_indexer] = value instead\n",
      "\n",
      "See the caveats in the documentation: http://pandas.pydata.org/pandas-docs/stable/indexing.html#indexing-view-versus-copy\n",
      "  self.obj[item] = s\n"
     ]
    }
   ],
   "source": [
    "n_weather = weather.iloc[12:,:]\n",
    "for i in range(1,7): # Hard-coded range of the last 6 days\n",
    "    n_date = \"_date-\"+str(i)\n",
    "    n_weather.loc[:,n_date] = n_weather.Date-pd.DateOffset(i)\n",
    "    n_weather = pd.merge(left=n_weather,right=weather,left_on=[n_date,'Station'],right_on=['Date','Station'],suffixes =('',n_date))"
   ]
  },
  {
   "cell_type": "code",
   "execution_count": 15,
   "metadata": {
    "collapsed": false
   },
   "outputs": [
    {
     "data": {
      "text/html": [
       "<div>\n",
       "<table border=\"1\" class=\"dataframe\">\n",
       "  <thead>\n",
       "    <tr style=\"text-align: right;\">\n",
       "      <th></th>\n",
       "      <th>Station</th>\n",
       "      <th>Date</th>\n",
       "      <th>Tmax</th>\n",
       "      <th>Tmin</th>\n",
       "      <th>Tavg</th>\n",
       "      <th>DewPoint</th>\n",
       "      <th>WetBulb</th>\n",
       "      <th>PrecipTotal</th>\n",
       "      <th>StnPressure</th>\n",
       "      <th>SeaLevel</th>\n",
       "      <th>...</th>\n",
       "      <th>MI_date-6</th>\n",
       "      <th>TS_date-6</th>\n",
       "      <th>SH_date-6</th>\n",
       "      <th>RA_date-6</th>\n",
       "      <th>\\+FC_date-6</th>\n",
       "      <th>SA_date-6</th>\n",
       "      <th>SG_date-6</th>\n",
       "      <th>PO_date-6</th>\n",
       "      <th>PL_date-6</th>\n",
       "      <th>SN_date-6</th>\n",
       "    </tr>\n",
       "  </thead>\n",
       "  <tbody>\n",
       "    <tr>\n",
       "      <th>0</th>\n",
       "      <td>1</td>\n",
       "      <td>2007-05-07</td>\n",
       "      <td>83</td>\n",
       "      <td>47</td>\n",
       "      <td>65</td>\n",
       "      <td>41</td>\n",
       "      <td>54</td>\n",
       "      <td>0.005</td>\n",
       "      <td>29.38</td>\n",
       "      <td>30.12</td>\n",
       "      <td>...</td>\n",
       "      <td>0</td>\n",
       "      <td>0</td>\n",
       "      <td>0</td>\n",
       "      <td>0</td>\n",
       "      <td>0</td>\n",
       "      <td>0</td>\n",
       "      <td>0</td>\n",
       "      <td>0</td>\n",
       "      <td>0</td>\n",
       "      <td>0</td>\n",
       "    </tr>\n",
       "    <tr>\n",
       "      <th>1</th>\n",
       "      <td>2</td>\n",
       "      <td>2007-05-07</td>\n",
       "      <td>84</td>\n",
       "      <td>50</td>\n",
       "      <td>67</td>\n",
       "      <td>39</td>\n",
       "      <td>53</td>\n",
       "      <td>0.00</td>\n",
       "      <td>29.44</td>\n",
       "      <td>30.12</td>\n",
       "      <td>...</td>\n",
       "      <td>0</td>\n",
       "      <td>0</td>\n",
       "      <td>0</td>\n",
       "      <td>0</td>\n",
       "      <td>0</td>\n",
       "      <td>0</td>\n",
       "      <td>0</td>\n",
       "      <td>0</td>\n",
       "      <td>0</td>\n",
       "      <td>0</td>\n",
       "    </tr>\n",
       "    <tr>\n",
       "      <th>2</th>\n",
       "      <td>1</td>\n",
       "      <td>2007-05-08</td>\n",
       "      <td>82</td>\n",
       "      <td>54</td>\n",
       "      <td>68</td>\n",
       "      <td>58</td>\n",
       "      <td>62</td>\n",
       "      <td>0.00</td>\n",
       "      <td>29.29</td>\n",
       "      <td>30.03</td>\n",
       "      <td>...</td>\n",
       "      <td>0</td>\n",
       "      <td>0</td>\n",
       "      <td>0</td>\n",
       "      <td>0</td>\n",
       "      <td>0</td>\n",
       "      <td>0</td>\n",
       "      <td>0</td>\n",
       "      <td>0</td>\n",
       "      <td>0</td>\n",
       "      <td>0</td>\n",
       "    </tr>\n",
       "    <tr>\n",
       "      <th>3</th>\n",
       "      <td>2</td>\n",
       "      <td>2007-05-08</td>\n",
       "      <td>80</td>\n",
       "      <td>60</td>\n",
       "      <td>70</td>\n",
       "      <td>57</td>\n",
       "      <td>63</td>\n",
       "      <td>0.005</td>\n",
       "      <td>29.36</td>\n",
       "      <td>30.02</td>\n",
       "      <td>...</td>\n",
       "      <td>0</td>\n",
       "      <td>0</td>\n",
       "      <td>0</td>\n",
       "      <td>0</td>\n",
       "      <td>0</td>\n",
       "      <td>0</td>\n",
       "      <td>0</td>\n",
       "      <td>0</td>\n",
       "      <td>0</td>\n",
       "      <td>0</td>\n",
       "    </tr>\n",
       "    <tr>\n",
       "      <th>4</th>\n",
       "      <td>1</td>\n",
       "      <td>2007-05-09</td>\n",
       "      <td>77</td>\n",
       "      <td>61</td>\n",
       "      <td>69</td>\n",
       "      <td>59</td>\n",
       "      <td>63</td>\n",
       "      <td>0.13</td>\n",
       "      <td>29.21</td>\n",
       "      <td>29.94</td>\n",
       "      <td>...</td>\n",
       "      <td>0</td>\n",
       "      <td>0</td>\n",
       "      <td>0</td>\n",
       "      <td>0</td>\n",
       "      <td>0</td>\n",
       "      <td>0</td>\n",
       "      <td>0</td>\n",
       "      <td>0</td>\n",
       "      <td>0</td>\n",
       "      <td>0</td>\n",
       "    </tr>\n",
       "  </tbody>\n",
       "</table>\n",
       "<p>5 rows × 322 columns</p>\n",
       "</div>"
      ],
      "text/plain": [
       "   Station       Date  Tmax  Tmin Tavg  DewPoint WetBulb PrecipTotal  \\\n",
       "0        1 2007-05-07    83    47   65        41      54       0.005   \n",
       "1        2 2007-05-07    84    50   67        39      53        0.00   \n",
       "2        1 2007-05-08    82    54   68        58      62        0.00   \n",
       "3        2 2007-05-08    80    60   70        57      63       0.005   \n",
       "4        1 2007-05-09    77    61   69        59      63        0.13   \n",
       "\n",
       "  StnPressure SeaLevel    ...      MI_date-6  TS_date-6 SH_date-6  RA_date-6  \\\n",
       "0       29.38    30.12    ...              0          0         0          0   \n",
       "1       29.44    30.12    ...              0          0         0          0   \n",
       "2       29.29    30.03    ...              0          0         0          0   \n",
       "3       29.36    30.02    ...              0          0         0          0   \n",
       "4       29.21    29.94    ...              0          0         0          0   \n",
       "\n",
       "   \\+FC_date-6  SA_date-6  SG_date-6  PO_date-6  PL_date-6  SN_date-6  \n",
       "0            0          0          0          0          0          0  \n",
       "1            0          0          0          0          0          0  \n",
       "2            0          0          0          0          0          0  \n",
       "3            0          0          0          0          0          0  \n",
       "4            0          0          0          0          0          0  \n",
       "\n",
       "[5 rows x 322 columns]"
      ]
     },
     "execution_count": 15,
     "metadata": {},
     "output_type": "execute_result"
    }
   ],
   "source": [
    "n_weather.head()"
   ]
  },
  {
   "cell_type": "markdown",
   "metadata": {},
   "source": [
    "# Geography"
   ]
  },
  {
   "cell_type": "code",
   "execution_count": 16,
   "metadata": {
    "collapsed": false
   },
   "outputs": [
    {
     "name": "stderr",
     "output_type": "stream",
     "text": [
      "/Users/austinbrian/anaconda/lib/python2.7/site-packages/pandas/util/decorators.py:91: SettingWithCopyWarning: \n",
      "A value is trying to be set on a copy of a slice from a DataFrame\n",
      "\n",
      "See the caveats in the documentation: http://pandas.pydata.org/pandas-docs/stable/indexing.html#indexing-view-versus-copy\n",
      "  return func(*args, **kwargs)\n"
     ]
    }
   ],
   "source": [
    "# Creating de-duped df of traps and coordinates.\n",
    "traps_master = train[['Trap', 'Coordinates']]\n",
    "# Drop duplicates\n",
    "traps_master.drop_duplicates(inplace=True)"
   ]
  },
  {
   "cell_type": "code",
   "execution_count": 17,
   "metadata": {
    "collapsed": true
   },
   "outputs": [],
   "source": [
    "# Create list of column names to use with for loops below\n",
    "trap_cols = traps_master.Trap.tolist() \n",
    "\n",
    "# Create dictionary of Trap IDs and corresponding lat/lon coordinate tuples\n",
    "trap_dict = traps_master.set_index('Trap')['Coordinates'].to_dict()"
   ]
  },
  {
   "cell_type": "code",
   "execution_count": 18,
   "metadata": {
    "collapsed": true
   },
   "outputs": [],
   "source": [
    "# Creates dictionary where key is a Trap name, and the value for each is a list of the distances to every other trap.\n",
    "distance_dict = {}\n",
    "for i in trap_cols:\n",
    "    dist_list = []\n",
    "    for k in trap_dict:\n",
    "        dist = distance(trap_dict[k], trap_dict[i])\n",
    "        dist_list.append(dist)\n",
    "    distance_dict[i] = dist_list\n",
    "\n",
    "\n",
    "# Creates dictionary where key is a Trap name, and the value for each is a list of the compass bearings from every other trap.\n",
    "bearing_dict = {}\n",
    "for c in trap_cols:\n",
    "    bearing_list = []\n",
    "    for q in trap_dict:\n",
    "        bearing = compass_bearing(trap_dict[q], trap_dict[c])\n",
    "        bearing_list.append(bearing)\n",
    "    bearing_dict[c] = bearing_list"
   ]
  },
  {
   "cell_type": "code",
   "execution_count": 19,
   "metadata": {
    "collapsed": true
   },
   "outputs": [],
   "source": [
    "# Creates df of relative distances.  To be merged with a left join into train df.\n",
    "dist_df = pd.DataFrame.from_dict(distance_dict, orient='index')\n",
    "distance_labels = dist_df.index.tolist()\n",
    "distance_cols = []\n",
    "for c in distance_labels:\n",
    "    label = c + '_dist'\n",
    "    distance_cols.append(label)\n",
    "dist_df.columns = [distance_cols] \n",
    "dist_df['Trap'] = dist_df.index\n",
    "# dist_df.to_csv('../data/relative_locations.csv')\n",
    "\n",
    "\n",
    "# Creates df of relative bearings.  To be merged with a left join into train df.\n",
    "bearing_df = pd.DataFrame.from_dict(bearing_dict, orient='index')  \n",
    "bearing_labels = bearing_df.index.tolist()  \n",
    "bearing_cols = []\n",
    "for c in bearing_labels:\n",
    "    label = c + '_bearing'\n",
    "    bearing_cols.append(label)\n",
    "bearing_df.columns = [bearing_cols]\n",
    "bearing_df['Trap'] = bearing_df.index\n",
    "# bearing_df.to_csv('../data/relative_bearings.csv')"
   ]
  },
  {
   "cell_type": "code",
   "execution_count": 20,
   "metadata": {
    "collapsed": true
   },
   "outputs": [],
   "source": [
    "train = pd.merge(train, dist_df, how='left', left_on='Trap', right_on='Trap')\n",
    "train = pd.merge(train, bearing_df, how='left', left_on='Trap', right_on='Trap')"
   ]
  },
  {
   "cell_type": "code",
   "execution_count": 21,
   "metadata": {
    "collapsed": false
   },
   "outputs": [
    {
     "data": {
      "text/plain": [
       "(10506, 288)"
      ]
     },
     "execution_count": 21,
     "metadata": {},
     "output_type": "execute_result"
    }
   ],
   "source": [
    "train.shape"
   ]
  },
  {
   "cell_type": "code",
   "execution_count": 22,
   "metadata": {
    "collapsed": false
   },
   "outputs": [
    {
     "data": {
      "text/html": [
       "<div>\n",
       "<table border=\"1\" class=\"dataframe\">\n",
       "  <thead>\n",
       "    <tr style=\"text-align: right;\">\n",
       "      <th></th>\n",
       "      <th>Station</th>\n",
       "      <th>Date</th>\n",
       "      <th>Tmax</th>\n",
       "      <th>Tmin</th>\n",
       "      <th>Tavg</th>\n",
       "      <th>DewPoint</th>\n",
       "      <th>WetBulb</th>\n",
       "      <th>PrecipTotal</th>\n",
       "      <th>StnPressure</th>\n",
       "      <th>SeaLevel</th>\n",
       "      <th>...</th>\n",
       "      <th>MI_date-6</th>\n",
       "      <th>TS_date-6</th>\n",
       "      <th>SH_date-6</th>\n",
       "      <th>RA_date-6</th>\n",
       "      <th>\\+FC_date-6</th>\n",
       "      <th>SA_date-6</th>\n",
       "      <th>SG_date-6</th>\n",
       "      <th>PO_date-6</th>\n",
       "      <th>PL_date-6</th>\n",
       "      <th>SN_date-6</th>\n",
       "    </tr>\n",
       "  </thead>\n",
       "  <tbody>\n",
       "    <tr>\n",
       "      <th>0</th>\n",
       "      <td>1</td>\n",
       "      <td>2007-05-07</td>\n",
       "      <td>83</td>\n",
       "      <td>47</td>\n",
       "      <td>65</td>\n",
       "      <td>41</td>\n",
       "      <td>54</td>\n",
       "      <td>0.005</td>\n",
       "      <td>29.38</td>\n",
       "      <td>30.12</td>\n",
       "      <td>...</td>\n",
       "      <td>0</td>\n",
       "      <td>0</td>\n",
       "      <td>0</td>\n",
       "      <td>0</td>\n",
       "      <td>0</td>\n",
       "      <td>0</td>\n",
       "      <td>0</td>\n",
       "      <td>0</td>\n",
       "      <td>0</td>\n",
       "      <td>0</td>\n",
       "    </tr>\n",
       "    <tr>\n",
       "      <th>1</th>\n",
       "      <td>2</td>\n",
       "      <td>2007-05-07</td>\n",
       "      <td>84</td>\n",
       "      <td>50</td>\n",
       "      <td>67</td>\n",
       "      <td>39</td>\n",
       "      <td>53</td>\n",
       "      <td>0.00</td>\n",
       "      <td>29.44</td>\n",
       "      <td>30.12</td>\n",
       "      <td>...</td>\n",
       "      <td>0</td>\n",
       "      <td>0</td>\n",
       "      <td>0</td>\n",
       "      <td>0</td>\n",
       "      <td>0</td>\n",
       "      <td>0</td>\n",
       "      <td>0</td>\n",
       "      <td>0</td>\n",
       "      <td>0</td>\n",
       "      <td>0</td>\n",
       "    </tr>\n",
       "    <tr>\n",
       "      <th>2</th>\n",
       "      <td>1</td>\n",
       "      <td>2007-05-08</td>\n",
       "      <td>82</td>\n",
       "      <td>54</td>\n",
       "      <td>68</td>\n",
       "      <td>58</td>\n",
       "      <td>62</td>\n",
       "      <td>0.00</td>\n",
       "      <td>29.29</td>\n",
       "      <td>30.03</td>\n",
       "      <td>...</td>\n",
       "      <td>0</td>\n",
       "      <td>0</td>\n",
       "      <td>0</td>\n",
       "      <td>0</td>\n",
       "      <td>0</td>\n",
       "      <td>0</td>\n",
       "      <td>0</td>\n",
       "      <td>0</td>\n",
       "      <td>0</td>\n",
       "      <td>0</td>\n",
       "    </tr>\n",
       "    <tr>\n",
       "      <th>3</th>\n",
       "      <td>2</td>\n",
       "      <td>2007-05-08</td>\n",
       "      <td>80</td>\n",
       "      <td>60</td>\n",
       "      <td>70</td>\n",
       "      <td>57</td>\n",
       "      <td>63</td>\n",
       "      <td>0.005</td>\n",
       "      <td>29.36</td>\n",
       "      <td>30.02</td>\n",
       "      <td>...</td>\n",
       "      <td>0</td>\n",
       "      <td>0</td>\n",
       "      <td>0</td>\n",
       "      <td>0</td>\n",
       "      <td>0</td>\n",
       "      <td>0</td>\n",
       "      <td>0</td>\n",
       "      <td>0</td>\n",
       "      <td>0</td>\n",
       "      <td>0</td>\n",
       "    </tr>\n",
       "    <tr>\n",
       "      <th>4</th>\n",
       "      <td>1</td>\n",
       "      <td>2007-05-09</td>\n",
       "      <td>77</td>\n",
       "      <td>61</td>\n",
       "      <td>69</td>\n",
       "      <td>59</td>\n",
       "      <td>63</td>\n",
       "      <td>0.13</td>\n",
       "      <td>29.21</td>\n",
       "      <td>29.94</td>\n",
       "      <td>...</td>\n",
       "      <td>0</td>\n",
       "      <td>0</td>\n",
       "      <td>0</td>\n",
       "      <td>0</td>\n",
       "      <td>0</td>\n",
       "      <td>0</td>\n",
       "      <td>0</td>\n",
       "      <td>0</td>\n",
       "      <td>0</td>\n",
       "      <td>0</td>\n",
       "    </tr>\n",
       "  </tbody>\n",
       "</table>\n",
       "<p>5 rows × 322 columns</p>\n",
       "</div>"
      ],
      "text/plain": [
       "   Station       Date  Tmax  Tmin Tavg  DewPoint WetBulb PrecipTotal  \\\n",
       "0        1 2007-05-07    83    47   65        41      54       0.005   \n",
       "1        2 2007-05-07    84    50   67        39      53        0.00   \n",
       "2        1 2007-05-08    82    54   68        58      62        0.00   \n",
       "3        2 2007-05-08    80    60   70        57      63       0.005   \n",
       "4        1 2007-05-09    77    61   69        59      63        0.13   \n",
       "\n",
       "  StnPressure SeaLevel    ...      MI_date-6  TS_date-6 SH_date-6  RA_date-6  \\\n",
       "0       29.38    30.12    ...              0          0         0          0   \n",
       "1       29.44    30.12    ...              0          0         0          0   \n",
       "2       29.29    30.03    ...              0          0         0          0   \n",
       "3       29.36    30.02    ...              0          0         0          0   \n",
       "4       29.21    29.94    ...              0          0         0          0   \n",
       "\n",
       "   \\+FC_date-6  SA_date-6  SG_date-6  PO_date-6  PL_date-6  SN_date-6  \n",
       "0            0          0          0          0          0          0  \n",
       "1            0          0          0          0          0          0  \n",
       "2            0          0          0          0          0          0  \n",
       "3            0          0          0          0          0          0  \n",
       "4            0          0          0          0          0          0  \n",
       "\n",
       "[5 rows x 322 columns]"
      ]
     },
     "execution_count": 22,
     "metadata": {},
     "output_type": "execute_result"
    }
   ],
   "source": [
    "n_weather.head()"
   ]
  },
  {
   "cell_type": "code",
   "execution_count": 23,
   "metadata": {
    "collapsed": true
   },
   "outputs": [],
   "source": [
    "train = pd.merge(train,n_weather,left_on=['Date','Weather_Station'],right_on=['Date','Station'])"
   ]
  },
  {
   "cell_type": "code",
   "execution_count": 27,
   "metadata": {
    "collapsed": false
   },
   "outputs": [
    {
     "data": {
      "text/html": [
       "<div>\n",
       "<table border=\"1\" class=\"dataframe\">\n",
       "  <thead>\n",
       "    <tr style=\"text-align: right;\">\n",
       "      <th></th>\n",
       "      <th>Date</th>\n",
       "      <th>Address</th>\n",
       "      <th>Species</th>\n",
       "      <th>Block</th>\n",
       "      <th>Street</th>\n",
       "      <th>Trap</th>\n",
       "      <th>AddressNumberAndStreet</th>\n",
       "      <th>Latitude</th>\n",
       "      <th>Longitude</th>\n",
       "      <th>AddressAccuracy</th>\n",
       "      <th>...</th>\n",
       "      <th>\\+FC_date-6</th>\n",
       "      <th>SA_date-6</th>\n",
       "      <th>SG_date-6</th>\n",
       "      <th>PO_date-6</th>\n",
       "      <th>PL_date-6</th>\n",
       "      <th>SN_date-6</th>\n",
       "      <th>Trap_Mosquitos_today</th>\n",
       "      <th>Trap_Species_today</th>\n",
       "      <th>min_Wnv_species_today</th>\n",
       "      <th>Epoch</th>\n",
       "    </tr>\n",
       "  </thead>\n",
       "  <tbody>\n",
       "    <tr>\n",
       "      <th>0</th>\n",
       "      <td>2007-05-29</td>\n",
       "      <td>4100 North Oak Park Avenue, Chicago, IL 60634,...</td>\n",
       "      <td>CULEX PIPIENS/RESTUANS</td>\n",
       "      <td>41</td>\n",
       "      <td>N OAK PARK AVE</td>\n",
       "      <td>T002</td>\n",
       "      <td>4100  N OAK PARK AVE, Chicago, IL</td>\n",
       "      <td>41.95469</td>\n",
       "      <td>-87.800991</td>\n",
       "      <td>9</td>\n",
       "      <td>...</td>\n",
       "      <td>0</td>\n",
       "      <td>0</td>\n",
       "      <td>0</td>\n",
       "      <td>0</td>\n",
       "      <td>0</td>\n",
       "      <td>0</td>\n",
       "      <td>2</td>\n",
       "      <td>1</td>\n",
       "      <td>0</td>\n",
       "      <td>1180396800</td>\n",
       "    </tr>\n",
       "  </tbody>\n",
       "</table>\n",
       "<p>1 rows × 613 columns</p>\n",
       "</div>"
      ],
      "text/plain": [
       "        Date                                            Address  \\\n",
       "0 2007-05-29  4100 North Oak Park Avenue, Chicago, IL 60634,...   \n",
       "\n",
       "                  Species  Block           Street  Trap  \\\n",
       "0  CULEX PIPIENS/RESTUANS     41   N OAK PARK AVE  T002   \n",
       "\n",
       "              AddressNumberAndStreet  Latitude  Longitude  AddressAccuracy  \\\n",
       "0  4100  N OAK PARK AVE, Chicago, IL  41.95469 -87.800991                9   \n",
       "\n",
       "      ...      \\+FC_date-6  SA_date-6 SG_date-6  PO_date-6  PL_date-6  \\\n",
       "0     ...                0          0         0          0          0   \n",
       "\n",
       "   SN_date-6  Trap_Mosquitos_today  Trap_Species_today  min_Wnv_species_today  \\\n",
       "0          0                     2                   1                      0   \n",
       "\n",
       "        Epoch  \n",
       "0  1180396800  \n",
       "\n",
       "[1 rows x 613 columns]"
      ]
     },
     "execution_count": 27,
     "metadata": {},
     "output_type": "execute_result"
    }
   ],
   "source": [
    "train.head(1)"
   ]
  },
  {
   "cell_type": "code",
   "execution_count": 25,
   "metadata": {
    "collapsed": false
   },
   "outputs": [],
   "source": [
    "# grouping mosquitos together to get a more accurate picture of how many mosquitos in each trap\n",
    "train['Trap_Mosquitos_today'] = train.groupby(['Trap','Date'])['NumMosquitos'].transform('sum')\n",
    "train['Trap_Species_today'] = train.groupby(['Trap','Date','Species'])['NumMosquitos'].transform('sum')\n",
    "train['min_Wnv_species_today'] = train.groupby(['Trap','Date','Species'])['WnvPresent'].transform('sum')"
   ]
  },
  {
   "cell_type": "code",
   "execution_count": 26,
   "metadata": {
    "collapsed": true
   },
   "outputs": [],
   "source": [
    "train['Epoch'] = train.Date.astype(np.int64) // 10**9"
   ]
  },
  {
   "cell_type": "code",
   "execution_count": 29,
   "metadata": {
    "collapsed": false
   },
   "outputs": [],
   "source": [
    "train.to_csv('~/Dropbox/DSI/train.csv')"
   ]
  },
  {
   "cell_type": "code",
   "execution_count": 63,
   "metadata": {
    "collapsed": true
   },
   "outputs": [],
   "source": [
    "# train.to_csv('../../../../datasets/Project4/workingfiles/train.csv',index=False)"
   ]
  },
  {
   "cell_type": "markdown",
   "metadata": {},
   "source": [
    "-------\n",
    "### Code graveyard"
   ]
  },
  {
   "cell_type": "code",
   "execution_count": 77,
   "metadata": {
    "collapsed": false
   },
   "outputs": [
    {
     "data": {
      "text/plain": [
       "10506"
      ]
     },
     "execution_count": 77,
     "metadata": {},
     "output_type": "execute_result"
    }
   ],
   "source": [
    "len(train_2.Trap)"
   ]
  },
  {
   "cell_type": "code",
   "execution_count": 78,
   "metadata": {
    "collapsed": false
   },
   "outputs": [
    {
     "data": {
      "text/plain": [
       "10506"
      ]
     },
     "execution_count": 78,
     "metadata": {},
     "output_type": "execute_result"
    }
   ],
   "source": [
    "len(train_2.Species)"
   ]
  },
  {
   "cell_type": "code",
   "execution_count": 79,
   "metadata": {
    "collapsed": true
   },
   "outputs": [],
   "source": [
    "train_2['Date_string'] = train_2.Date.astype(str)"
   ]
  },
  {
   "cell_type": "code",
   "execution_count": 88,
   "metadata": {
    "collapsed": true
   },
   "outputs": [],
   "source": [
    "# train_2['ObvID'] = pd.factorize(train_2.Date_string + train_2.Trap + train_2.Species)"
   ]
  },
  {
   "cell_type": "code",
   "execution_count": 69,
   "metadata": {
    "collapsed": true
   },
   "outputs": [],
   "source": [
    "rollup = train_2.pivot_table(index=['ObvID'], values=['NumMosquitos'], aggfunc=np.sum)"
   ]
  },
  {
   "cell_type": "code",
   "execution_count": 85,
   "metadata": {
    "collapsed": true
   },
   "outputs": [],
   "source": [
    "# rollup.head()"
   ]
  }
 ],
 "metadata": {
  "kernelspec": {
   "display_name": "Python 2",
   "language": "python",
   "name": "python2"
  },
  "language_info": {
   "codemirror_mode": {
    "name": "ipython",
    "version": 2
   },
   "file_extension": ".py",
   "mimetype": "text/x-python",
   "name": "python",
   "nbconvert_exporter": "python",
   "pygments_lexer": "ipython2",
   "version": "2.7.13"
  }
 },
 "nbformat": 4,
 "nbformat_minor": 2
}
