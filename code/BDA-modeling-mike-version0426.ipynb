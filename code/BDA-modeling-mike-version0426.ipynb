{
 "cells": [
  {
   "cell_type": "code",
   "execution_count": 34,
   "metadata": {
    "collapsed": true
   },
   "outputs": [],
   "source": [
    "import numpy as np\n",
    "import pandas as pd\n",
    "import matplotlib.pyplot as plt\n",
    "import seaborn as sns\n",
    "from sklearn.model_selection import train_test_split, cross_val_score"
   ]
  },
  {
   "cell_type": "code",
   "execution_count": 35,
   "metadata": {},
   "outputs": [
    {
     "data": {
      "text/plain": [
       "u'/Users/michaelsanders/DSIwork/Project4/skeeter_patrol/code'"
      ]
     },
     "execution_count": 35,
     "metadata": {},
     "output_type": "execute_result"
    }
   ],
   "source": [
    "pwd"
   ]
  },
  {
   "cell_type": "code",
   "execution_count": 36,
   "metadata": {},
   "outputs": [],
   "source": [
    "train = pd.read_csv('../../../../datasets/Project4/workingfiles/train.csv')\n",
    "cols = [i for i in train.columns]\n",
    "# train.Date = pd.to_datetime(train.Date)\n",
    "\n",
    "# deal with NaNs\n",
    "for i in train.columns[train.isnull().sum()>0]: # for all the columns with nans\n",
    "    mean_avg_temp = train.loc[train[i].isnull()==True,'Tavg'].mean() # what is the mean Tavg\n",
    "    mean_i_val = train.loc[train.Tavg==mean_avg_temp,i].mean() # what is i val for that Tavg\n",
    "    train.loc[train[i].isnull()==True,'to_fill'] = mean_i_val\n",
    "    train[i] = train[i].fillna(train.to_fill)\n",
    "    train.drop('to_fill',axis=1,inplace=True)\n",
    "\n",
    "# remove date columns\n",
    "dates = ['_date-'+str(i) for i in range(1,7)]\n",
    "for i,v in enumerate(cols):\n",
    "    try:\n",
    "        if v in dates: # drops out the repeated date column\n",
    "            train.drop(v,axis=1,inplace=True)\n",
    "    except:\n",
    "        pass\n",
    "    try:\n",
    "        if 'Date_date-' in v:\n",
    "            train.drop(v,axis=1,inplace=True)\n",
    "    except:\n",
    "        pass\n",
    "    \n",
    "# label encode Species and Trap\n",
    "from sklearn.preprocessing import LabelEncoder,normalize,StandardScaler\n",
    "le = LabelEncoder()\n",
    "le.fit(train.Species)\n",
    "train['mosquito'] = le.transform(train.Species)\n",
    "le.fit(train.Trap)\n",
    "train['trap_e'] = le.transform(train.Trap)\n",
    "cols = [i for i in train.columns]\n",
    "X_cols = cols[13:]\n",
    "X_cols.append('Latitude')\n",
    "X_cols.append('Longitude')\n",
    "X_cols.append('AddressAccuracy')\n",
    "# X_cols.append('NumMosquitos')\n",
    "\n",
    "# set up y\n",
    "y = train.dropna()['WnvPresent']\n",
    "\n",
    "# set up and standardize X\n",
    "X_values = train[X_cols].dropna().values # convert to numpy array\n",
    "ss = StandardScaler()\n",
    "X_std = ss.fit_transform(X_values)"
   ]
  },
  {
   "cell_type": "code",
   "execution_count": null,
   "metadata": {},
   "outputs": [],
   "source": []
  },
  {
   "cell_type": "code",
   "execution_count": 48,
   "metadata": {
    "collapsed": true
   },
   "outputs": [],
   "source": [
    "from sklearn.metrics import accuracy_score, confusion_matrix, classification_report, roc_curve, auc\n",
    "\n",
    "def evaluate_model(m):\n",
    "    model = m.fit(X_train,y_train)\n",
    "    y_pred = model.predict(X_test)\n",
    "    score = accuracy_score(y_test, y_pred)\n",
    "    conf_matrix = confusion_matrix(y_test,y_pred,labels =[0,1])\n",
    "    class_report = classification_report\n",
    "    print m,'\\n'\n",
    "    print \"Accuracy Score:\\t{:0.3}\".format(score.round(3)),'\\n\\n'\n",
    "    crossval = cross_val_score(m, X, y,cv=7)\n",
    "    print \"Cross Val Scores:\", crossval,'\\n'\n",
    "    print \"Cross Val mean ± Std. Dev:{:0.3}\".format(np.mean(crossval), ' ± ',np.std(crossval)),'\\n'\n",
    "    print \"Predicted Totals:\"\n",
    "    for i,v in enumerate(np.bincount(y)):\n",
    "        print \"class \"+str(i)+':' , v\n",
    "    print \"\\nConfusion Matrix:\"\n",
    "    conmat = np.array(confusion_matrix(y_test, y_pred, labels=[1,0]))\n",
    "    confusion = pd.DataFrame(conmat, index=['Actual 1', 'Actual 0'],\n",
    "                         columns=['Predicted 1','Predicted 0'])\n",
    "    print(confusion),'\\n'\n",
    "    print \"Classification Report:\"\n",
    "    print(classification_report(y_test, y_pred, target_names=['0','1']))\n",
    "    \n",
    "    # ROC Curve\n",
    "    fpr, tpr, thresholds = roc_curve(y_test, y_pred)\n",
    "    roc_auc = auc(fpr, tpr)\n",
    "\n",
    "    # Plot ROC curve\n",
    "    plt.plot(fpr, tpr, label='ROC curve (area = %0.3f)' % roc_auc)\n",
    "    plt.plot([0, 1], [0, 1], 'k--')  # random predictions curve\n",
    "    plt.xlim([0.0, 1.0])\n",
    "    plt.ylim([0.0, 1.0])\n",
    "    plt.xlabel('False Positive Rate or (1 - Specificity)')\n",
    "    plt.ylabel('True Positive Rate or (Sensitivity)')\n",
    "    plt.title('Receiver Operating Characteristic')\n",
    "    plt.legend(loc=\"lower right\")\n",
    "    plt.show()"
   ]
  },
  {
   "cell_type": "markdown",
   "metadata": {},
   "source": [
    "## Non-PCA section"
   ]
  },
  {
   "cell_type": "code",
   "execution_count": 6,
   "metadata": {},
   "outputs": [],
   "source": [
    "# X for train test split (non-PCA)\n",
    "X = X_std\n",
    "X_train, X_test, y_train, y_test = train_test_split(X, y,stratify=y, test_size=0.33)"
   ]
  },
  {
   "cell_type": "code",
   "execution_count": 79,
   "metadata": {},
   "outputs": [
    {
     "name": "stdout",
     "output_type": "stream",
     "text": [
      "KNeighborsClassifier(algorithm='auto', leaf_size=30, metric='minkowski',\n",
      "           metric_params=None, n_jobs=1, n_neighbors=3, p=2,\n",
      "           weights='uniform') \n",
      "\n",
      "Accuracy Score:\t0.94 \n",
      "\n",
      "\n",
      "Cross Val Scores: [ 0.93136582  0.48387097  0.85498282  0.91546392  0.83436426  0.81168385\n",
      "  0.62817869] \n",
      "\n",
      "Cross Val mean ± Std. Dev:0.78 \n",
      "\n",
      "Predicted Totals:\n",
      "class 0: 9662\n",
      "class 1: 527\n",
      "\n",
      "Confusion Matrix:\n",
      "          Predicted 1  Predicted 0\n",
      "Actual 1           25          149\n",
      "Actual 0           53         3136 \n",
      "\n",
      "Classification Report:\n",
      "             precision    recall  f1-score   support\n",
      "\n",
      "          0       0.95      0.98      0.97      3189\n",
      "          1       0.32      0.14      0.20       174\n",
      "\n",
      "avg / total       0.92      0.94      0.93      3363\n",
      "\n"
     ]
    },
    {
     "data": {
      "image/png": "[encoded data removed]",
      "text/plain": [
       "<matplotlib.figure.Figure at 0x10f067110>"
      ]
     },
     "metadata": {},
     "output_type": "display_data"
    }
   ],
   "source": [
    "from sklearn.neighbors import KNeighborsClassifier\n",
    "clf = KNeighborsClassifier(n_neighbors=3)\n",
    "evaluate_model(clf)"
   ]
  },
  {
   "cell_type": "code",
   "execution_count": 80,
   "metadata": {},
   "outputs": [
    {
     "name": "stdout",
     "output_type": "stream",
     "text": [
      "AdaBoostClassifier(algorithm='SAMME.R',\n",
      "          base_estimator=RandomForestClassifier(bootstrap=True, class_weight=None, criterion='gini',\n",
      "            max_depth=None, max_features=10, max_leaf_nodes=None,\n",
      "            min_impurity_split=1e-07, min_samples_leaf=1,\n",
      "            min_samples_split=2, min_weight_fraction_leaf=0.0,\n",
      "            n_estimators=10, n_jobs=1, oob_score=False, random_state=None,\n",
      "            verbose=0, warm_start=False),\n",
      "          learning_rate=1.0, n_estimators=50, random_state=None) \n",
      "\n",
      "Accuracy Score:\t0.94 \n",
      "\n",
      "\n",
      "Cross Val Scores: [ 0.94783802  0.60878518  0.91134021  0.94845361  0.88591065  0.89278351\n",
      "  0.71408935] \n",
      "\n",
      "Cross Val mean ± Std. Dev:0.844 \n",
      "\n",
      "Predicted Totals:\n",
      "class 0: 9662\n",
      "class 1: 527\n",
      "\n",
      "Confusion Matrix:\n",
      "          Predicted 1  Predicted 0\n",
      "Actual 1           36          138\n",
      "Actual 0           64         3125 \n",
      "\n",
      "Classification Report:\n",
      "             precision    recall  f1-score   support\n",
      "\n",
      "          0       0.96      0.98      0.97      3189\n",
      "          1       0.36      0.21      0.26       174\n",
      "\n",
      "avg / total       0.93      0.94      0.93      3363\n",
      "\n"
     ]
    },
    {
     "data": {
      "image/png": "[encoded data removed]",
      "text/plain": [
       "<matplotlib.figure.Figure at 0x10f3d1890>"
      ]
     },
     "metadata": {},
     "output_type": "display_data"
    }
   ],
   "source": [
    "from sklearn.ensemble import AdaBoostClassifier\n",
    "rf = RandomForestClassifier(max_features = 10)\n",
    "clf = AdaBoostClassifier(base_estimator=rf)\n",
    "evaluate_model(clf)"
   ]
  },
  {
   "cell_type": "code",
   "execution_count": 81,
   "metadata": {},
   "outputs": [
    {
     "data": {
      "text/plain": [
       "RandomForestClassifier(bootstrap=True, class_weight=None, criterion='gini',\n",
       "            max_depth=None, max_features=10, max_leaf_nodes=None,\n",
       "            min_impurity_split=1e-07, min_samples_leaf=1,\n",
       "            min_samples_split=2, min_weight_fraction_leaf=0.0,\n",
       "            n_estimators=10, n_jobs=1, oob_score=False, random_state=None,\n",
       "            verbose=0, warm_start=False)"
      ]
     },
     "execution_count": 81,
     "metadata": {},
     "output_type": "execute_result"
    }
   ],
   "source": [
    "rf.fit(X_train,y_train)"
   ]
  },
  {
   "cell_type": "code",
   "execution_count": 82,
   "metadata": {},
   "outputs": [
    {
     "data": {
      "text/html": [
       "<div>\n",
       "<table border=\"1\" class=\"dataframe\">\n",
       "  <thead>\n",
       "    <tr style=\"text-align: right;\">\n",
       "      <th></th>\n",
       "      <th>Feature</th>\n",
       "      <th>Importance</th>\n",
       "    </tr>\n",
       "  </thead>\n",
       "  <tbody>\n",
       "    <tr>\n",
       "      <th>584</th>\n",
       "      <td>mosquito</td>\n",
       "      <td>0.196802</td>\n",
       "    </tr>\n",
       "    <tr>\n",
       "      <th>547</th>\n",
       "      <td>SeaLevel_date-6</td>\n",
       "      <td>0.011715</td>\n",
       "    </tr>\n",
       "    <tr>\n",
       "      <th>458</th>\n",
       "      <td>StnPressure_date-4</td>\n",
       "      <td>0.010052</td>\n",
       "    </tr>\n",
       "    <tr>\n",
       "      <th>323</th>\n",
       "      <td>DewPoint_date-1</td>\n",
       "      <td>0.009807</td>\n",
       "    </tr>\n",
       "    <tr>\n",
       "      <th>415</th>\n",
       "      <td>SeaLevel_date-3</td>\n",
       "      <td>0.009303</td>\n",
       "    </tr>\n",
       "    <tr>\n",
       "      <th>412</th>\n",
       "      <td>WetBulb_date-3</td>\n",
       "      <td>0.008983</td>\n",
       "    </tr>\n",
       "    <tr>\n",
       "      <th>329</th>\n",
       "      <td>ResultDir_date-1</td>\n",
       "      <td>0.008431</td>\n",
       "    </tr>\n",
       "    <tr>\n",
       "      <th>322</th>\n",
       "      <td>Tavg_date-1</td>\n",
       "      <td>0.008258</td>\n",
       "    </tr>\n",
       "    <tr>\n",
       "      <th>374</th>\n",
       "      <td>AvgSpeed_date-2</td>\n",
       "      <td>0.007928</td>\n",
       "    </tr>\n",
       "    <tr>\n",
       "      <th>414</th>\n",
       "      <td>StnPressure_date-3</td>\n",
       "      <td>0.007764</td>\n",
       "    </tr>\n",
       "    <tr>\n",
       "      <th>410</th>\n",
       "      <td>Tavg_date-3</td>\n",
       "      <td>0.007757</td>\n",
       "    </tr>\n",
       "    <tr>\n",
       "      <th>277</th>\n",
       "      <td>Tmin</td>\n",
       "      <td>0.007533</td>\n",
       "    </tr>\n",
       "    <tr>\n",
       "      <th>279</th>\n",
       "      <td>DewPoint</td>\n",
       "      <td>0.007313</td>\n",
       "    </tr>\n",
       "    <tr>\n",
       "      <th>461</th>\n",
       "      <td>ResultDir_date-4</td>\n",
       "      <td>0.007117</td>\n",
       "    </tr>\n",
       "    <tr>\n",
       "      <th>502</th>\n",
       "      <td>StnPressure_date-5</td>\n",
       "      <td>0.007069</td>\n",
       "    </tr>\n",
       "    <tr>\n",
       "      <th>418</th>\n",
       "      <td>AvgSpeed_date-3</td>\n",
       "      <td>0.007002</td>\n",
       "    </tr>\n",
       "    <tr>\n",
       "      <th>325</th>\n",
       "      <td>PrecipTotal_date-1</td>\n",
       "      <td>0.006800</td>\n",
       "    </tr>\n",
       "    <tr>\n",
       "      <th>455</th>\n",
       "      <td>DewPoint_date-4</td>\n",
       "      <td>0.006775</td>\n",
       "    </tr>\n",
       "    <tr>\n",
       "      <th>364</th>\n",
       "      <td>Tmax_date-2</td>\n",
       "      <td>0.006597</td>\n",
       "    </tr>\n",
       "    <tr>\n",
       "      <th>371</th>\n",
       "      <td>SeaLevel_date-2</td>\n",
       "      <td>0.006476</td>\n",
       "    </tr>\n",
       "    <tr>\n",
       "      <th>280</th>\n",
       "      <td>WetBulb</td>\n",
       "      <td>0.006348</td>\n",
       "    </tr>\n",
       "    <tr>\n",
       "      <th>462</th>\n",
       "      <td>AvgSpeed_date-4</td>\n",
       "      <td>0.006316</td>\n",
       "    </tr>\n",
       "    <tr>\n",
       "      <th>324</th>\n",
       "      <td>WetBulb_date-1</td>\n",
       "      <td>0.006145</td>\n",
       "    </tr>\n",
       "    <tr>\n",
       "      <th>411</th>\n",
       "      <td>DewPoint_date-3</td>\n",
       "      <td>0.006121</td>\n",
       "    </tr>\n",
       "    <tr>\n",
       "      <th>456</th>\n",
       "      <td>WetBulb_date-4</td>\n",
       "      <td>0.006069</td>\n",
       "    </tr>\n",
       "    <tr>\n",
       "      <th>370</th>\n",
       "      <td>StnPressure_date-2</td>\n",
       "      <td>0.005932</td>\n",
       "    </tr>\n",
       "    <tr>\n",
       "      <th>548</th>\n",
       "      <td>ResultSpeed_date-6</td>\n",
       "      <td>0.005894</td>\n",
       "    </tr>\n",
       "    <tr>\n",
       "      <th>417</th>\n",
       "      <td>ResultDir_date-3</td>\n",
       "      <td>0.005772</td>\n",
       "    </tr>\n",
       "    <tr>\n",
       "      <th>327</th>\n",
       "      <td>SeaLevel_date-1</td>\n",
       "      <td>0.005700</td>\n",
       "    </tr>\n",
       "    <tr>\n",
       "      <th>372</th>\n",
       "      <td>ResultSpeed_date-2</td>\n",
       "      <td>0.005697</td>\n",
       "    </tr>\n",
       "    <tr>\n",
       "      <th>...</th>\n",
       "      <td>...</td>\n",
       "      <td>...</td>\n",
       "    </tr>\n",
       "    <tr>\n",
       "      <th>471</th>\n",
       "      <td>FZ_date-4</td>\n",
       "      <td>0.000000</td>\n",
       "    </tr>\n",
       "    <tr>\n",
       "      <th>424</th>\n",
       "      <td>FG\\+_date-3</td>\n",
       "      <td>0.000000</td>\n",
       "    </tr>\n",
       "    <tr>\n",
       "      <th>423</th>\n",
       "      <td>GR_date-3</td>\n",
       "      <td>0.000000</td>\n",
       "    </tr>\n",
       "    <tr>\n",
       "      <th>422</th>\n",
       "      <td>GS_date-3</td>\n",
       "      <td>0.000000</td>\n",
       "    </tr>\n",
       "    <tr>\n",
       "      <th>394</th>\n",
       "      <td>PR_date-2</td>\n",
       "      <td>0.000000</td>\n",
       "    </tr>\n",
       "    <tr>\n",
       "      <th>380</th>\n",
       "      <td>FG\\+_date-2</td>\n",
       "      <td>0.000000</td>\n",
       "    </tr>\n",
       "    <tr>\n",
       "      <th>381</th>\n",
       "      <td>BC_date-2</td>\n",
       "      <td>0.000000</td>\n",
       "    </tr>\n",
       "    <tr>\n",
       "      <th>382</th>\n",
       "      <td>BL_date-2</td>\n",
       "      <td>0.000000</td>\n",
       "    </tr>\n",
       "    <tr>\n",
       "      <th>383</th>\n",
       "      <td>FZ_date-2</td>\n",
       "      <td>0.000000</td>\n",
       "    </tr>\n",
       "    <tr>\n",
       "      <th>384</th>\n",
       "      <td>UP_date-2</td>\n",
       "      <td>0.000000</td>\n",
       "    </tr>\n",
       "    <tr>\n",
       "      <th>385</th>\n",
       "      <td>FC_date-2</td>\n",
       "      <td>0.000000</td>\n",
       "    </tr>\n",
       "    <tr>\n",
       "      <th>386</th>\n",
       "      <td>DZ_date-2</td>\n",
       "      <td>0.000000</td>\n",
       "    </tr>\n",
       "    <tr>\n",
       "      <th>389</th>\n",
       "      <td>IC_date-2</td>\n",
       "      <td>0.000000</td>\n",
       "    </tr>\n",
       "    <tr>\n",
       "      <th>390</th>\n",
       "      <td>DU_date-2</td>\n",
       "      <td>0.000000</td>\n",
       "    </tr>\n",
       "    <tr>\n",
       "      <th>391</th>\n",
       "      <td>DR_date-2</td>\n",
       "      <td>0.000000</td>\n",
       "    </tr>\n",
       "    <tr>\n",
       "      <th>392</th>\n",
       "      <td>DS_date-2</td>\n",
       "      <td>0.000000</td>\n",
       "    </tr>\n",
       "    <tr>\n",
       "      <th>395</th>\n",
       "      <td>SS_date-2</td>\n",
       "      <td>0.000000</td>\n",
       "    </tr>\n",
       "    <tr>\n",
       "      <th>421</th>\n",
       "      <td>VC_date-3</td>\n",
       "      <td>0.000000</td>\n",
       "    </tr>\n",
       "    <tr>\n",
       "      <th>396</th>\n",
       "      <td>SQ_date-2</td>\n",
       "      <td>0.000000</td>\n",
       "    </tr>\n",
       "    <tr>\n",
       "      <th>397</th>\n",
       "      <td>PY_date-2</td>\n",
       "      <td>0.000000</td>\n",
       "    </tr>\n",
       "    <tr>\n",
       "      <th>398</th>\n",
       "      <td>MI_date-2</td>\n",
       "      <td>0.000000</td>\n",
       "    </tr>\n",
       "    <tr>\n",
       "      <th>400</th>\n",
       "      <td>SH_date-2</td>\n",
       "      <td>0.000000</td>\n",
       "    </tr>\n",
       "    <tr>\n",
       "      <th>402</th>\n",
       "      <td>\\+FC_date-2</td>\n",
       "      <td>0.000000</td>\n",
       "    </tr>\n",
       "    <tr>\n",
       "      <th>403</th>\n",
       "      <td>SA_date-2</td>\n",
       "      <td>0.000000</td>\n",
       "    </tr>\n",
       "    <tr>\n",
       "      <th>404</th>\n",
       "      <td>SG_date-2</td>\n",
       "      <td>0.000000</td>\n",
       "    </tr>\n",
       "    <tr>\n",
       "      <th>405</th>\n",
       "      <td>PO_date-2</td>\n",
       "      <td>0.000000</td>\n",
       "    </tr>\n",
       "    <tr>\n",
       "      <th>406</th>\n",
       "      <td>PL_date-2</td>\n",
       "      <td>0.000000</td>\n",
       "    </tr>\n",
       "    <tr>\n",
       "      <th>407</th>\n",
       "      <td>SN_date-2</td>\n",
       "      <td>0.000000</td>\n",
       "    </tr>\n",
       "    <tr>\n",
       "      <th>420</th>\n",
       "      <td>VA_date-3</td>\n",
       "      <td>0.000000</td>\n",
       "    </tr>\n",
       "    <tr>\n",
       "      <th>294</th>\n",
       "      <td>BL</td>\n",
       "      <td>0.000000</td>\n",
       "    </tr>\n",
       "  </tbody>\n",
       "</table>\n",
       "<p>589 rows × 2 columns</p>\n",
       "</div>"
      ],
      "text/plain": [
       "                Feature  Importance\n",
       "584            mosquito    0.196802\n",
       "547     SeaLevel_date-6    0.011715\n",
       "458  StnPressure_date-4    0.010052\n",
       "323     DewPoint_date-1    0.009807\n",
       "415     SeaLevel_date-3    0.009303\n",
       "412      WetBulb_date-3    0.008983\n",
       "329    ResultDir_date-1    0.008431\n",
       "322         Tavg_date-1    0.008258\n",
       "374     AvgSpeed_date-2    0.007928\n",
       "414  StnPressure_date-3    0.007764\n",
       "410         Tavg_date-3    0.007757\n",
       "277                Tmin    0.007533\n",
       "279            DewPoint    0.007313\n",
       "461    ResultDir_date-4    0.007117\n",
       "502  StnPressure_date-5    0.007069\n",
       "418     AvgSpeed_date-3    0.007002\n",
       "325  PrecipTotal_date-1    0.006800\n",
       "455     DewPoint_date-4    0.006775\n",
       "364         Tmax_date-2    0.006597\n",
       "371     SeaLevel_date-2    0.006476\n",
       "280             WetBulb    0.006348\n",
       "462     AvgSpeed_date-4    0.006316\n",
       "324      WetBulb_date-1    0.006145\n",
       "411     DewPoint_date-3    0.006121\n",
       "456      WetBulb_date-4    0.006069\n",
       "370  StnPressure_date-2    0.005932\n",
       "548  ResultSpeed_date-6    0.005894\n",
       "417    ResultDir_date-3    0.005772\n",
       "327     SeaLevel_date-1    0.005700\n",
       "372  ResultSpeed_date-2    0.005697\n",
       "..                  ...         ...\n",
       "471           FZ_date-4    0.000000\n",
       "424         FG\\+_date-3    0.000000\n",
       "423           GR_date-3    0.000000\n",
       "422           GS_date-3    0.000000\n",
       "394           PR_date-2    0.000000\n",
       "380         FG\\+_date-2    0.000000\n",
       "381           BC_date-2    0.000000\n",
       "382           BL_date-2    0.000000\n",
       "383           FZ_date-2    0.000000\n",
       "384           UP_date-2    0.000000\n",
       "385           FC_date-2    0.000000\n",
       "386           DZ_date-2    0.000000\n",
       "389           IC_date-2    0.000000\n",
       "390           DU_date-2    0.000000\n",
       "391           DR_date-2    0.000000\n",
       "392           DS_date-2    0.000000\n",
       "395           SS_date-2    0.000000\n",
       "421           VC_date-3    0.000000\n",
       "396           SQ_date-2    0.000000\n",
       "397           PY_date-2    0.000000\n",
       "398           MI_date-2    0.000000\n",
       "400           SH_date-2    0.000000\n",
       "402         \\+FC_date-2    0.000000\n",
       "403           SA_date-2    0.000000\n",
       "404           SG_date-2    0.000000\n",
       "405           PO_date-2    0.000000\n",
       "406           PL_date-2    0.000000\n",
       "407           SN_date-2    0.000000\n",
       "420           VA_date-3    0.000000\n",
       "294                  BL    0.000000\n",
       "\n",
       "[589 rows x 2 columns]"
      ]
     },
     "execution_count": 82,
     "metadata": {},
     "output_type": "execute_result"
    }
   ],
   "source": [
    "features = pd.DataFrame({'Feature':train[X_cols].columns,\n",
    "                         'Importance':np.round(rf.feature_importances_,6)})\n",
    "features.sort_values(by='Importance',ascending=False)"
   ]
  },
  {
   "cell_type": "markdown",
   "metadata": {},
   "source": [
    "## PCA"
   ]
  },
  {
   "cell_type": "code",
   "execution_count": 76,
   "metadata": {},
   "outputs": [
    {
     "name": "stdout",
     "output_type": "stream",
     "text": [
      "0.85528346836\n"
     ]
    }
   ],
   "source": [
    "# PCA, remember to run in this section before you run the below.\n",
    "from sklearn.decomposition import PCA\n",
    "pca = PCA(n_components=31,svd_solver='full') # 30 components describe 85% of variance\n",
    "pca.fit(X)\n",
    "X_pca = pca.transform(X)\n",
    "# print pca.explained_variance_ratio_\n",
    "print pca.explained_variance_ratio_.sum()\n",
    "X_train, X_test, y_train, y_test = train_test_split(X_pca, y,stratify=y, test_size=0.33)"
   ]
  },
  {
   "cell_type": "code",
   "execution_count": 77,
   "metadata": {
    "scrolled": true
   },
   "outputs": [
    {
     "name": "stdout",
     "output_type": "stream",
     "text": [
      "RandomForestClassifier(bootstrap=True, class_weight=None, criterion='gini',\n",
      "            max_depth=None, max_features=0.8, max_leaf_nodes=None,\n",
      "            min_impurity_split=1e-07, min_samples_leaf=1,\n",
      "            min_samples_split=2, min_weight_fraction_leaf=0.0,\n",
      "            n_estimators=10, n_jobs=1, oob_score=False, random_state=None,\n",
      "            verbose=0, warm_start=False) \n",
      "\n",
      "Accuracy Score:\t0.942 \n",
      "\n",
      "\n",
      "Cross Val Scores: [ 0.94783802  0.23335621  0.70790378  0.94845361  0.52508591  0.46872852\n",
      "  0.29003436] \n",
      "\n",
      "Cross Val mean ± Std. Dev:0.589 \n",
      "\n",
      "Predicted Totals:\n",
      "class 0: 9662\n",
      "class 1: 527\n",
      "\n",
      "Confusion Matrix:\n",
      "          Predicted 1  Predicted 0\n",
      "Actual 1           26          148\n",
      "Actual 0           48         3141 \n",
      "\n",
      "Classification Report:\n",
      "             precision    recall  f1-score   support\n",
      "\n",
      "          0       0.96      0.98      0.97      3189\n",
      "          1       0.35      0.15      0.21       174\n",
      "\n",
      "avg / total       0.92      0.94      0.93      3363\n",
      "\n"
     ]
    },
    {
     "data": {
      "image/png": "[encoded data removed]",
      "text/plain": [
       "<matplotlib.figure.Figure at 0x10f08f7d0>"
      ]
     },
     "metadata": {},
     "output_type": "display_data"
    }
   ],
   "source": [
    "from sklearn.ensemble import RandomForestClassifier\n",
    "clf = RandomForestClassifier(max_features=.8)\n",
    "evaluate_model(clf)"
   ]
  },
  {
   "cell_type": "markdown",
   "metadata": {},
   "source": [
    "## Mike models - 4/26 lunchtime"
   ]
  },
  {
   "cell_type": "code",
   "execution_count": 18,
   "metadata": {
    "collapsed": true
   },
   "outputs": [],
   "source": [
    "from sklearn.externals import joblib\n",
    "from sklearn import svm\n",
    "from sklearn import metrics\n",
    "from sklearn.metrics import confusion_matrix, classification_report, accuracy_score, roc_curve, auc"
   ]
  },
  {
   "cell_type": "code",
   "execution_count": 9,
   "metadata": {},
   "outputs": [],
   "source": [
    "clf = svm.SVC(C=10, kernel='rbf', probability=True)\n",
    "clf_model = clf.fit(X_train, y_train)"
   ]
  },
  {
   "cell_type": "code",
   "execution_count": 17,
   "metadata": {},
   "outputs": [
    {
     "name": "stdout",
     "output_type": "stream",
     "text": [
      "Accuracy on Test Set:\t\t0.949 ± 0.0\n",
      "\n",
      "Confusion Matrix:\n",
      "          Predicted 1  Predicted 0\n",
      "Actual 1            7          167\n",
      "Actual 0            6         3183 \n",
      "\n",
      "\n",
      "Classification Report:\n",
      "             precision    recall  f1-score   support\n",
      "\n",
      "          0       0.95      1.00      0.97      3189\n",
      "          1       0.54      0.04      0.07       174\n",
      "\n",
      "avg / total       0.93      0.95      0.93      3363\n",
      "\n"
     ]
    }
   ],
   "source": [
    "y_preds = clf_model.predict(X_test)\n",
    "a = metrics.accuracy_score(y_test, y_preds)\n",
    "print \"Accuracy on Test Set:\\t\\t{:0.3} ± {:0.3}\".format(a.mean().round(3), \n",
    "                                                       a.std().round(3))\n",
    "# cm = confusion_matrix(y_test, predictions_cv)\n",
    "print '\\nConfusion Matrix:'\n",
    "conmat = np.array(confusion_matrix(y_test, y_preds, labels=[1,0]))\n",
    "confusion = pd.DataFrame(conmat, index=['Actual 1', 'Actual 0'],\n",
    "                     columns=['Predicted 1','Predicted 0'])\n",
    "print(confusion),'\\n'\n",
    "print \"\\nClassification Report:\"\n",
    "print classification_report(y_test, y_preds)"
   ]
  },
  {
   "cell_type": "code",
   "execution_count": 19,
   "metadata": {},
   "outputs": [
    {
     "data": {
      "image/png": "[encoded data removed]",
      "text/plain": [
       "<matplotlib.figure.Figure at 0x1210e0690>"
      ]
     },
     "metadata": {},
     "output_type": "display_data"
    }
   ],
   "source": [
    "fpr, tpr, thresholds = roc_curve(y_test, y_preds)\n",
    "roc_auc = auc(fpr, tpr)\n",
    "\n",
    "# Plot ROC curve\n",
    "plt.figure(figsize=[11,9])\n",
    "plt.plot(fpr, tpr, label='ROC curve (area = %0.3f)' % roc_auc)\n",
    "plt.plot([0, 1], [0, 1], 'k--')  # random predictions curve\n",
    "plt.xlim([0.0, 1.0])\n",
    "plt.ylim([0.0, 1.0])\n",
    "plt.xlabel('False Positive Rate or (1 - Specificity)')\n",
    "plt.ylabel('True Positive Rate or (Sensitivity)')\n",
    "plt.title('Receiver Operating Characteristic')\n",
    "plt.legend(loc='lower right')\n",
    "plt.show()"
   ]
  },
  {
   "cell_type": "code",
   "execution_count": 20,
   "metadata": {
    "collapsed": true
   },
   "outputs": [],
   "source": [
    "import hdbscan"
   ]
  },
  {
   "cell_type": "code",
   "execution_count": 21,
   "metadata": {
    "collapsed": true
   },
   "outputs": [],
   "source": [
    "clusterer = hdbscan.HDBSCAN()"
   ]
  },
  {
   "cell_type": "code",
   "execution_count": 22,
   "metadata": {},
   "outputs": [
    {
     "data": {
      "text/plain": [
       "HDBSCAN(algorithm='best', allow_single_cluster=False, alpha=1.0,\n",
       "    approx_min_span_tree=True, cluster_selection_method='eom',\n",
       "    core_dist_n_jobs=4, gen_min_span_tree=False, leaf_size=40,\n",
       "    match_reference_implementation=False, memory=Memory(cachedir=None),\n",
       "    metric='euclidean', min_cluster_size=5, min_samples=None, p=None,\n",
       "    prediction_data=False)"
      ]
     },
     "execution_count": 22,
     "metadata": {},
     "output_type": "execute_result"
    }
   ],
   "source": [
    "clusterer.fit(X_test)"
   ]
  },
  {
   "cell_type": "code",
   "execution_count": 23,
   "metadata": {},
   "outputs": [
    {
     "data": {
      "text/plain": [
       "array([ -1,  -1, 110, ...,  -1,  -1,  -1])"
      ]
     },
     "execution_count": 23,
     "metadata": {},
     "output_type": "execute_result"
    }
   ],
   "source": [
    "clusterer.labels_"
   ]
  },
  {
   "cell_type": "code",
   "execution_count": 33,
   "metadata": {},
   "outputs": [
    {
     "data": {
      "text/plain": [
       "189"
      ]
     },
     "execution_count": 33,
     "metadata": {},
     "output_type": "execute_result"
    }
   ],
   "source": [
    "clusterer.labels_.max()"
   ]
  },
  {
   "cell_type": "code",
   "execution_count": 28,
   "metadata": {},
   "outputs": [
    {
     "data": {
      "text/plain": [
       "array([ 0.,  0.,  1., ...,  0.,  0.,  0.])"
      ]
     },
     "execution_count": 28,
     "metadata": {},
     "output_type": "execute_result"
    }
   ],
   "source": [
    "clusterer.probabilities_"
   ]
  },
  {
   "cell_type": "code",
   "execution_count": 32,
   "metadata": {
    "scrolled": true
   },
   "outputs": [
    {
     "ename": "IndexError",
     "evalue": "list index out of range",
     "output_type": "error",
     "traceback": [
      "\u001b[0;31m---------------------------------------------------------------------------\u001b[0m",
      "\u001b[0;31mIndexError\u001b[0m                                Traceback (most recent call last)",
      "\u001b[0;32m<ipython-input-32-475bf240e8f2>\u001b[0m in \u001b[0;36m<module>\u001b[0;34m()\u001b[0m\n\u001b[1;32m      2\u001b[0m cluster_colors = [color_palette[x] if x >= 0\n\u001b[1;32m      3\u001b[0m                   \u001b[0;32melse\u001b[0m \u001b[0;34m(\u001b[0m\u001b[0;36m0.5\u001b[0m\u001b[0;34m,\u001b[0m \u001b[0;36m0.5\u001b[0m\u001b[0;34m,\u001b[0m \u001b[0;36m0.5\u001b[0m\u001b[0;34m)\u001b[0m\u001b[0;34m\u001b[0m\u001b[0m\n\u001b[0;32m----> 4\u001b[0;31m                   for x in clusterer.labels_]\n\u001b[0m\u001b[1;32m      5\u001b[0m cluster_member_colors = [sns.desaturate(x, p) for x, p in\n\u001b[1;32m      6\u001b[0m                          zip(cluster_colors, clusterer.probabilities_)]\n",
      "\u001b[0;31mIndexError\u001b[0m: list index out of range"
     ]
    }
   ],
   "source": [
    "color_palette = sns.color_palette('Paired', 12)\n",
    "cluster_colors = [color_palette[x] if x >= 0\n",
    "                  else (0.5, 0.5, 0.5)\n",
    "                  for x in clusterer.labels_]\n",
    "cluster_member_colors = [sns.desaturate(x, p) for x, p in\n",
    "                         zip(cluster_colors, clusterer.probabilities_)]\n",
    "plt.scatter(*projection.T, s=50, linewidth=0, c=cluster_member_colors, alpha=0.25)"
   ]
  },
  {
   "cell_type": "code",
   "execution_count": null,
   "metadata": {
    "collapsed": true
   },
   "outputs": [],
   "source": []
  }
 ],
 "metadata": {
  "kernelspec": {
   "display_name": "Python 2",
   "language": "python",
   "name": "python2"
  },
  "language_info": {
   "codemirror_mode": {
    "name": "ipython",
    "version": 2
   },
   "file_extension": ".py",
   "mimetype": "text/x-python",
   "name": "python",
   "nbconvert_exporter": "python",
   "pygments_lexer": "ipython2",
   "version": "2.7.13"
  }
 },
 "nbformat": 4,
 "nbformat_minor": 2
}
