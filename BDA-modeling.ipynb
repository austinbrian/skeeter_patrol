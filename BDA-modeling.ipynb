{
 "cells": [
  {
   "cell_type": "code",
   "execution_count": 1,
   "metadata": {
    "collapsed": true
   },
   "outputs": [],
   "source": [
    "import numpy as np\n",
    "import pandas as pd\n",
    "import matplotlib.pyplot as plt\n",
    "import seaborn as sns"
   ]
  },
  {
   "cell_type": "code",
   "execution_count": 2,
   "metadata": {
    "collapsed": true
   },
   "outputs": [],
   "source": [
    "train = pd.read_csv('data/train.csv')\n",
    "cols = [i for i in train.columns]\n",
    "for i,v in enumerate(cols):\n",
    "    if '_date-1_date-' in v: # drops out the repeated date column\n",
    "        train.drop(v,axis=1,inplace=True)"
   ]
  },
  {
   "cell_type": "code",
   "execution_count": 45,
   "metadata": {
    "collapsed": false
   },
   "outputs": [
    {
     "ename": "SyntaxError",
     "evalue": "invalid syntax (<ipython-input-45-c3be2ee3fd63>, line 9)",
     "output_type": "error",
     "traceback": [
      "\u001b[0;36m  File \u001b[0;32m\"<ipython-input-45-c3be2ee3fd63>\"\u001b[0;36m, line \u001b[0;32m9\u001b[0m\n\u001b[0;31m    X_cols = cols[[7:11],[12:]]\u001b[0m\n\u001b[0m                    ^\u001b[0m\n\u001b[0;31mSyntaxError\u001b[0m\u001b[0;31m:\u001b[0m invalid syntax\n"
     ]
    }
   ],
   "source": [
    "# need to label encode Species and Trap\n",
    "from sklearn.preprocessing import LabelEncoder,normalize,StandardScaler\n",
    "le = LabelEncoder()\n",
    "le.fit(train.Species)\n",
    "train['mosquito'] = le.transform(train.Species)\n",
    "le.fit(train.Trap)\n",
    "train['trap_e'] = le.transform(train.Trap)\n",
    "cols = [i for i in train.columns]\n",
    "X_cols = cols[7:]\n",
    "y = train['WnvPresent']"
   ]
  },
  {
   "cell_type": "code",
   "execution_count": 40,
   "metadata": {
    "collapsed": false
   },
   "outputs": [
    {
     "data": {
      "text/html": [
       "<div>\n",
       "<table border=\"1\" class=\"dataframe\">\n",
       "  <thead>\n",
       "    <tr style=\"text-align: right;\">\n",
       "      <th></th>\n",
       "      <th>Latitude</th>\n",
       "      <th>Longitude</th>\n",
       "      <th>AddressAccuracy</th>\n",
       "      <th>NumMosquitos</th>\n",
       "      <th>WnvPresent</th>\n",
       "      <th>Coordinates</th>\n",
       "      <th>Weather_Station</th>\n",
       "      <th>T152_dist</th>\n",
       "      <th>T153_dist</th>\n",
       "      <th>T019_dist</th>\n",
       "      <th>...</th>\n",
       "      <th>SH_date-6</th>\n",
       "      <th>RA_date-6</th>\n",
       "      <th>\\+FC_date-6</th>\n",
       "      <th>SA_date-6</th>\n",
       "      <th>SG_date-6</th>\n",
       "      <th>PO_date-6</th>\n",
       "      <th>PL_date-6</th>\n",
       "      <th>SN_date-6</th>\n",
       "      <th>mosquito</th>\n",
       "      <th>trap_e</th>\n",
       "    </tr>\n",
       "  </thead>\n",
       "  <tbody>\n",
       "    <tr>\n",
       "      <th>0</th>\n",
       "      <td>41.954690</td>\n",
       "      <td>-87.800991</td>\n",
       "      <td>9</td>\n",
       "      <td>1</td>\n",
       "      <td>0</td>\n",
       "      <td>(41.954689999999999, -87.800990999999996)</td>\n",
       "      <td>1</td>\n",
       "      <td>13.965004</td>\n",
       "      <td>6.194487</td>\n",
       "      <td>8.496345</td>\n",
       "      <td>...</td>\n",
       "      <td>0</td>\n",
       "      <td>0</td>\n",
       "      <td>0</td>\n",
       "      <td>0</td>\n",
       "      <td>0</td>\n",
       "      <td>0</td>\n",
       "      <td>0</td>\n",
       "      <td>0</td>\n",
       "      <td>2</td>\n",
       "      <td>1</td>\n",
       "    </tr>\n",
       "    <tr>\n",
       "      <th>1</th>\n",
       "      <td>41.954690</td>\n",
       "      <td>-87.800991</td>\n",
       "      <td>9</td>\n",
       "      <td>1</td>\n",
       "      <td>0</td>\n",
       "      <td>(41.954689999999999, -87.800990999999996)</td>\n",
       "      <td>1</td>\n",
       "      <td>13.965004</td>\n",
       "      <td>6.194487</td>\n",
       "      <td>8.496345</td>\n",
       "      <td>...</td>\n",
       "      <td>0</td>\n",
       "      <td>0</td>\n",
       "      <td>0</td>\n",
       "      <td>0</td>\n",
       "      <td>0</td>\n",
       "      <td>0</td>\n",
       "      <td>0</td>\n",
       "      <td>0</td>\n",
       "      <td>3</td>\n",
       "      <td>1</td>\n",
       "    </tr>\n",
       "    <tr>\n",
       "      <th>2</th>\n",
       "      <td>41.994991</td>\n",
       "      <td>-87.769279</td>\n",
       "      <td>9</td>\n",
       "      <td>1</td>\n",
       "      <td>0</td>\n",
       "      <td>(41.994990999999999, -87.769278999999997)</td>\n",
       "      <td>1</td>\n",
       "      <td>17.129532</td>\n",
       "      <td>9.737201</td>\n",
       "      <td>7.713386</td>\n",
       "      <td>...</td>\n",
       "      <td>0</td>\n",
       "      <td>0</td>\n",
       "      <td>0</td>\n",
       "      <td>0</td>\n",
       "      <td>0</td>\n",
       "      <td>0</td>\n",
       "      <td>0</td>\n",
       "      <td>0</td>\n",
       "      <td>3</td>\n",
       "      <td>6</td>\n",
       "    </tr>\n",
       "  </tbody>\n",
       "</table>\n",
       "<p>3 rows × 604 columns</p>\n",
       "</div>"
      ],
      "text/plain": [
       "    Latitude  Longitude  AddressAccuracy  NumMosquitos  WnvPresent  \\\n",
       "0  41.954690 -87.800991                9             1           0   \n",
       "1  41.954690 -87.800991                9             1           0   \n",
       "2  41.994991 -87.769279                9             1           0   \n",
       "\n",
       "                                 Coordinates  Weather_Station  T152_dist  \\\n",
       "0  (41.954689999999999, -87.800990999999996)                1  13.965004   \n",
       "1  (41.954689999999999, -87.800990999999996)                1  13.965004   \n",
       "2  (41.994990999999999, -87.769278999999997)                1  17.129532   \n",
       "\n",
       "   T153_dist  T019_dist   ...    SH_date-6  RA_date-6  \\+FC_date-6  SA_date-6  \\\n",
       "0   6.194487   8.496345   ...            0          0            0          0   \n",
       "1   6.194487   8.496345   ...            0          0            0          0   \n",
       "2   9.737201   7.713386   ...            0          0            0          0   \n",
       "\n",
       "   SG_date-6  PO_date-6  PL_date-6  SN_date-6  mosquito  trap_e  \n",
       "0          0          0          0          0         2       1  \n",
       "1          0          0          0          0         3       1  \n",
       "2          0          0          0          0         3       6  \n",
       "\n",
       "[3 rows x 604 columns]"
      ]
     },
     "execution_count": 40,
     "metadata": {},
     "output_type": "execute_result"
    }
   ],
   "source": [
    "train[X_cols].head(3)"
   ]
  },
  {
   "cell_type": "code",
   "execution_count": null,
   "metadata": {
    "collapsed": false
   },
   "outputs": [],
   "source": []
  },
  {
   "cell_type": "code",
   "execution_count": 41,
   "metadata": {
    "collapsed": false
   },
   "outputs": [
    {
     "ename": "NameError",
     "evalue": "name 'StandardScalar' is not defined",
     "output_type": "error",
     "traceback": [
      "\u001b[0;31m---------------------------------------------------------------------------\u001b[0m",
      "\u001b[0;31mNameError\u001b[0m                                 Traceback (most recent call last)",
      "\u001b[0;32m<ipython-input-41-ab1700abeb0c>\u001b[0m in \u001b[0;36m<module>\u001b[0;34m()\u001b[0m\n\u001b[1;32m      1\u001b[0m \u001b[0;31m# Standardize values\u001b[0m\u001b[0;34m\u001b[0m\u001b[0;34m\u001b[0m\u001b[0m\n\u001b[1;32m      2\u001b[0m \u001b[0mX_values\u001b[0m \u001b[0;34m=\u001b[0m \u001b[0mtrain\u001b[0m\u001b[0;34m[\u001b[0m\u001b[0mX_cols\u001b[0m\u001b[0;34m]\u001b[0m\u001b[0;34m.\u001b[0m\u001b[0mvalues\u001b[0m\u001b[0;34m\u001b[0m\u001b[0m\n\u001b[0;32m----> 3\u001b[0;31m \u001b[0mX_std\u001b[0m \u001b[0;34m=\u001b[0m \u001b[0mStandardScalar\u001b[0m\u001b[0;34m.\u001b[0m\u001b[0mfit_transform\u001b[0m\u001b[0;34m(\u001b[0m\u001b[0mX_values\u001b[0m\u001b[0;34m)\u001b[0m\u001b[0;34m\u001b[0m\u001b[0m\n\u001b[0m",
      "\u001b[0;31mNameError\u001b[0m: name 'StandardScalar' is not defined"
     ]
    }
   ],
   "source": [
    "# Standardize values\n",
    "X_values = train[X_cols].values # convert to numpy array\n",
    "ss = StandardScaler()\n",
    "X_std = ss.fit_transform(X_values)"
   ]
  },
  {
   "cell_type": "code",
   "execution_count": null,
   "metadata": {
    "collapsed": false
   },
   "outputs": [],
   "source": []
  },
  {
   "cell_type": "code",
   "execution_count": null,
   "metadata": {
    "collapsed": true
   },
   "outputs": [],
   "source": [
    "from sklearn.linear_model import LinearRegression\n",
    "lr = LinearRegression()"
   ]
  },
  {
   "cell_type": "code",
   "execution_count": null,
   "metadata": {
    "collapsed": true
   },
   "outputs": [],
   "source": []
  }
 ],
 "metadata": {
  "kernelspec": {
   "display_name": "Python 2",
   "language": "python",
   "name": "python2"
  },
  "language_info": {
   "codemirror_mode": {
    "name": "ipython",
    "version": 2
   },
   "file_extension": ".py",
   "mimetype": "text/x-python",
   "name": "python",
   "nbconvert_exporter": "python",
   "pygments_lexer": "ipython2",
   "version": "2.7.13"
  }
 },
 "nbformat": 4,
 "nbformat_minor": 2
}
